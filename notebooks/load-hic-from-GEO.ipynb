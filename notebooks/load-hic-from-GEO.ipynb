{
 "cells": [
  {
   "cell_type": "markdown",
   "metadata": {},
   "source": [
    "# Conversion from `.hic` to holoSEq `hseq` format\n",
    "\n",
    "This Jupyter notebook shows an example of converting a .hic file directly from GEO (Gene Expression Omnibus), and then launching a panel server by the command line to view it.\n",
    "\n",
    "This notebook has been checked out via git, to get the entire repository of code."
   ]
  },
  {
   "cell_type": "code",
   "execution_count": null,
   "metadata": {},
   "outputs": [],
   "source": [
    "# run this to install all required dependencies before running the main code if not already in the venv\n",
    "# If you made a kernel out of the package's venv, you can skip this step\n",
    "! pip install datashader 'dask[dataframe]' 'holoviews[recommended]' pandas matplotlib bokeh hic-straw"
   ]
  },
  {
   "cell_type": "markdown",
   "metadata": {},
   "source": [
    "# Configuration\n",
    "The following paths can be changed to point to other samples or output names"
   ]
  },
  {
   "cell_type": "code",
   "execution_count": 1,
   "metadata": {},
   "outputs": [],
   "source": [
    "## Name of the sample to put as metadata in the hseq file\n",
    "HIC_TITLE = \"A001C007\"\n",
    "## URL to the hic file  \n",
    "HIC_URL = \"https://ftp.ncbi.nlm.nih.gov/geo/samples/GSM6326nnn/GSM6326543/suppl/GSM6326543%5FA001C007%2Ehg38%2Enodups%2Epairs%2Ehic\"\n",
    "## Local download path\n",
    "HIC_FILE = \"{HIC_TITLE}_hic.txt.gz\"\n",
    "\n",
    "## Output file names\n",
    "hseq_filename = f\"{HIC_TITLE}_hseq.txt.gz\"\n",
    "lenfile_name = f\"{HIC_TITLE}_hseq.txt.gz.len\"\n",
    "\n",
    "## Number of chromosomes to include in the hseq file.\n",
    "## In the example file, the first two chromosomes are the \"ALL\" catchall and the mitochondrial chromosome.\n",
    "## Set this to 0 to convert all chromosomes.\n",
    "MAX_CHROM = 5"
   ]
  },
  {
   "cell_type": "code",
   "execution_count": 2,
   "metadata": {},
   "outputs": [],
   "source": [
    "## Load the conversion code from the holoSeq repository\n",
    "import sys\n",
    "sys.path.append(\"../scripts\")\n",
    "import hic2hseq"
   ]
  },
  {
   "cell_type": "markdown",
   "metadata": {},
   "source": [
    "# Download from GEO\n",
    "The given example file is about a 5GB download."
   ]
  },
  {
   "cell_type": "code",
   "execution_count": null,
   "metadata": {},
   "outputs": [],
   "source": [
    "from urllib.request import urlretrieve\n",
    "urlretrieve(HIC_URL, HIC_FILE)"
   ]
  },
  {
   "cell_type": "markdown",
   "metadata": {},
   "source": [
    "# Convert to hseq\n",
    "Conversion of the entire 5GB .hic file takes 10-20 minutes, and the output is about 500MB. Fewer chromosomes will convert faster and have a smaller output file."
   ]
  },
  {
   "cell_type": "code",
   "execution_count": null,
   "metadata": {},
   "outputs": [],
   "source": [
    "lenfile_stream = open(lenfile_name, mode=\"w\")\n",
    "with hic2hseq.GzipOut(hseq_filename) as ostream:\n",
    "    hic2hseq.convert_hic_to_hseq(HIC_FILE, ostream, lenfile_stream, lenfile_name, MAX_CHROM, HIC_TITLE)"
   ]
  },
  {
   "cell_type": "markdown",
   "metadata": {},
   "source": [
    "# Start the panel server"
   ]
  },
  {
   "cell_type": "code",
   "execution_count": null,
   "metadata": {},
   "outputs": [],
   "source": [
    "!panel serve ../scripts/holoseq_display.py --show --args --inFile {HIC_TITLE}_hseq.txt.gz --size 1000"
   ]
  },
  {
   "cell_type": "code",
   "execution_count": null,
   "metadata": {},
   "outputs": [],
   "source": []
  }
 ],
 "metadata": {
  "kernelspec": {
   "display_name": "holoSeq",
   "language": "python",
   "name": "holoseq"
  },
  "language_info": {
   "codemirror_mode": {
    "name": "ipython",
    "version": 3
   },
   "file_extension": ".py",
   "mimetype": "text/x-python",
   "name": "python",
   "nbconvert_exporter": "python",
   "pygments_lexer": "ipython3",
   "version": "3.12.1"
  }
 },
 "nbformat": 4,
 "nbformat_minor": 2
}
